{
  "cells": [
    {
      "cell_type": "code",
      "execution_count": null,
      "metadata": {
        "colab": {
          "base_uri": "https://localhost:8080/"
        },
        "id": "Jza7lwiScUhb",
        "outputId": "6e7fee63-3a5b-408e-d19e-20f01f4bccbb"
      },
      "outputs": [
        {
          "output_type": "stream",
          "name": "stdout",
          "text": [
            "Sat Apr 22 15:06:34 2023       \n",
            "+-----------------------------------------------------------------------------+\n",
            "| NVIDIA-SMI 525.85.12    Driver Version: 525.85.12    CUDA Version: 12.0     |\n",
            "|-------------------------------+----------------------+----------------------+\n",
            "| GPU  Name        Persistence-M| Bus-Id        Disp.A | Volatile Uncorr. ECC |\n",
            "| Fan  Temp  Perf  Pwr:Usage/Cap|         Memory-Usage | GPU-Util  Compute M. |\n",
            "|                               |                      |               MIG M. |\n",
            "|===============================+======================+======================|\n",
            "|   0  Tesla T4            Off  | 00000000:00:04.0 Off |                    0 |\n",
            "| N/A   54C    P8    10W /  70W |      0MiB / 15360MiB |      0%      Default |\n",
            "|                               |                      |                  N/A |\n",
            "+-------------------------------+----------------------+----------------------+\n",
            "                                                                               \n",
            "+-----------------------------------------------------------------------------+\n",
            "| Processes:                                                                  |\n",
            "|  GPU   GI   CI        PID   Type   Process name                  GPU Memory |\n",
            "|        ID   ID                                                   Usage      |\n",
            "|=============================================================================|\n",
            "|  No running processes found                                                 |\n",
            "+-----------------------------------------------------------------------------+\n"
          ]
        }
      ],
      "source": [
        "!nvidia-smi"
      ]
    },
    {
      "cell_type": "code",
      "execution_count": null,
      "metadata": {
        "colab": {
          "base_uri": "https://localhost:8080/"
        },
        "id": "bTxfd_nqFnL9",
        "outputId": "44851ac2-eea1-4923-cfbd-bae03bc257e4"
      },
      "outputs": [
        {
          "output_type": "stream",
          "name": "stdout",
          "text": [
            "\u001b[?25l     \u001b[90m━━━━━━━━━━━━━━━━━━━━━━━━━━━━━━━━━━━━━━━━\u001b[0m \u001b[32m0.0/2.0 MB\u001b[0m \u001b[31m?\u001b[0m eta \u001b[36m-:--:--\u001b[0m\r\u001b[2K     \u001b[91m━━━━━━━━━━━━━━━━━━━━━━━━━━━━━━━━━━━━━━━\u001b[0m\u001b[91m╸\u001b[0m \u001b[32m2.0/2.0 MB\u001b[0m \u001b[31m75.1 MB/s\u001b[0m eta \u001b[36m0:00:01\u001b[0m\r\u001b[2K     \u001b[91m━━━━━━━━━━━━━━━━━━━━━━━━━━━━━━━━━━━━━━━\u001b[0m\u001b[91m╸\u001b[0m \u001b[32m2.0/2.0 MB\u001b[0m \u001b[31m75.1 MB/s\u001b[0m eta \u001b[36m0:00:01\u001b[0m\r\u001b[2K     \u001b[90m━━━━━━━━━━━━━━━━━━━━━━━━━━━━━━━━━━━━━━━━\u001b[0m \u001b[32m2.0/2.0 MB\u001b[0m \u001b[31m26.1 MB/s\u001b[0m eta \u001b[36m0:00:00\u001b[0m\n",
            "\u001b[?25h  Preparing metadata (setup.py) ... \u001b[?25l\u001b[?25hdone\n",
            "\u001b[2K     \u001b[90m━━━━━━━━━━━━━━━━━━━━━━━━━━━━━━━━━━━━━━━\u001b[0m \u001b[32m198.8/198.8 kB\u001b[0m \u001b[31m6.6 MB/s\u001b[0m eta \u001b[36m0:00:00\u001b[0m\n",
            "\u001b[2K     \u001b[90m━━━━━━━━━━━━━━━━━━━━━━━━━━━━━━━━━━━━━━━\u001b[0m \u001b[32m184.3/184.3 kB\u001b[0m \u001b[31m3.9 MB/s\u001b[0m eta \u001b[36m0:00:00\u001b[0m\n",
            "\u001b[2K     \u001b[90m━━━━━━━━━━━━━━━━━━━━━━━━━━━━━━━━━━━━━━━━\u001b[0m \u001b[32m62.7/62.7 kB\u001b[0m \u001b[31m3.0 MB/s\u001b[0m eta \u001b[36m0:00:00\u001b[0m\n",
            "\u001b[?25h  Building wheel for pathtools (setup.py) ... \u001b[?25l\u001b[?25hdone\n",
            "Looking in indexes: https://pypi.org/simple, https://us-python.pkg.dev/colab-wheels/public/simple/\n",
            "Collecting torchsummaryX\n",
            "  Downloading torchsummaryX-1.3.0-py3-none-any.whl (3.6 kB)\n",
            "Requirement already satisfied: pandas in /usr/local/lib/python3.9/dist-packages (from torchsummaryX) (1.5.3)\n",
            "Requirement already satisfied: torch in /usr/local/lib/python3.9/dist-packages (from torchsummaryX) (2.0.0+cu118)\n",
            "Requirement already satisfied: numpy in /usr/local/lib/python3.9/dist-packages (from torchsummaryX) (1.22.4)\n",
            "Requirement already satisfied: pytz>=2020.1 in /usr/local/lib/python3.9/dist-packages (from pandas->torchsummaryX) (2022.7.1)\n",
            "Requirement already satisfied: python-dateutil>=2.8.1 in /usr/local/lib/python3.9/dist-packages (from pandas->torchsummaryX) (2.8.2)\n",
            "Requirement already satisfied: jinja2 in /usr/local/lib/python3.9/dist-packages (from torch->torchsummaryX) (3.1.2)\n",
            "Requirement already satisfied: networkx in /usr/local/lib/python3.9/dist-packages (from torch->torchsummaryX) (3.1)\n",
            "Requirement already satisfied: triton==2.0.0 in /usr/local/lib/python3.9/dist-packages (from torch->torchsummaryX) (2.0.0)\n",
            "Requirement already satisfied: typing-extensions in /usr/local/lib/python3.9/dist-packages (from torch->torchsummaryX) (4.5.0)\n",
            "Requirement already satisfied: filelock in /usr/local/lib/python3.9/dist-packages (from torch->torchsummaryX) (3.11.0)\n",
            "Requirement already satisfied: sympy in /usr/local/lib/python3.9/dist-packages (from torch->torchsummaryX) (1.11.1)\n",
            "Requirement already satisfied: lit in /usr/local/lib/python3.9/dist-packages (from triton==2.0.0->torch->torchsummaryX) (16.0.1)\n",
            "Requirement already satisfied: cmake in /usr/local/lib/python3.9/dist-packages (from triton==2.0.0->torch->torchsummaryX) (3.25.2)\n",
            "Requirement already satisfied: six>=1.5 in /usr/local/lib/python3.9/dist-packages (from python-dateutil>=2.8.1->pandas->torchsummaryX) (1.16.0)\n",
            "Requirement already satisfied: MarkupSafe>=2.0 in /usr/local/lib/python3.9/dist-packages (from jinja2->torch->torchsummaryX) (2.1.2)\n",
            "Requirement already satisfied: mpmath>=0.19 in /usr/local/lib/python3.9/dist-packages (from sympy->torch->torchsummaryX) (1.3.0)\n",
            "Installing collected packages: torchsummaryX\n",
            "Successfully installed torchsummaryX-1.3.0\n"
          ]
        }
      ],
      "source": [
        "!pip install wandb --quiet\n",
        "!pip install torchsummaryX"
      ]
    },
    {
      "cell_type": "markdown",
      "metadata": {
        "id": "UAYFa9pLdPVG"
      },
      "source": []
    },
    {
      "cell_type": "code",
      "execution_count": null,
      "metadata": {
        "colab": {
          "base_uri": "https://localhost:8080/"
        },
        "id": "jwLEd0gdPbSc",
        "outputId": "0df80c0b-8341-4a8b-9004-37f5e490d11c"
      },
      "outputs": [
        {
          "output_type": "stream",
          "name": "stdout",
          "text": [
            "Device:  cuda\n"
          ]
        }
      ],
      "source": [
        "import torch\n",
        "from torch import nn\n",
        "from torchsummaryX import summary\n",
        "import os\n",
        "import gc\n",
        "from tqdm import tqdm\n",
        "import numpy as np\n",
        "import pandas as pd\n",
        "import glob\n",
        "import wandb\n",
        "import matplotlib.pyplot as plt\n",
        "DEVICE = 'cuda' if torch.cuda.is_available() else 'cpu'\n",
        "print(\"Device: \", DEVICE)\n",
        "import json\n",
        "import gc"
      ]
    },
    {
      "cell_type": "code",
      "execution_count": null,
      "metadata": {
        "colab": {
          "base_uri": "https://localhost:8080/"
        },
        "id": "IoxQRbWBGt4T",
        "outputId": "c77e5f91-673e-4654-b7f3-ae78cb3ffd3a"
      },
      "outputs": [
        {
          "output_type": "stream",
          "name": "stdout",
          "text": [
            "Mounted at /content/drive\n"
          ]
        }
      ],
      "source": [
        "from google.colab import drive\n",
        "drive.mount('/content/drive')"
      ]
    },
    {
      "cell_type": "code",
      "execution_count": null,
      "metadata": {
        "id": "SRz9et3SZnbO"
      },
      "outputs": [],
      "source": [
        "# from google.colab import drive # Link your drive if you are a colab user\n",
        "# drive.mount('/content/drive') # Models in this HW take a long time to get trained and make sure to save it her"
      ]
    },
    {
      "cell_type": "code",
      "execution_count": null,
      "metadata": {
        "id": "hAANfQIAHkcP"
      },
      "outputs": [],
      "source": [
        "# npz_dict = {}\n",
        "# for file in os.listdir(\"/content/val_data\"):\n",
        "#   a = file.split(\".\")[0]\n",
        "#   arr = np.load(os.path.join(\"/content/val_data\",file))\n",
        "\n",
        "#   npz_dict[a] = arr.tolist()"
      ]
    },
    {
      "cell_type": "code",
      "execution_count": null,
      "metadata": {
        "id": "qPGL2ejjNlb9"
      },
      "outputs": [],
      "source": [
        "# npz_dict"
      ]
    },
    {
      "cell_type": "code",
      "execution_count": null,
      "metadata": {
        "id": "YYVUzzSLJT7v"
      },
      "outputs": [],
      "source": [
        "# with open(\"val_data.json\", \"w\") as outfile:\n",
        "#     json.dump(npz_dict, outfile)"
      ]
    },
    {
      "cell_type": "code",
      "execution_count": null,
      "metadata": {
        "id": "mi-jj9OYGndA"
      },
      "outputs": [],
      "source": [
        "# a = open(\"/content/ViT_L_14@336px_train.json\")\n",
        "# resnet = json.load(a)\n",
        "# print(len(sorted(list(resnet.keys()))))\n",
        "\n",
        "# print(len(sorted(os.listdir(\"/content/train_data\"))))"
      ]
    },
    {
      "cell_type": "code",
      "execution_count": null,
      "metadata": {
        "id": "3oFjaJTaRjT7"
      },
      "outputs": [],
      "source": [
        "# # !mkdir '/content/data'\n",
        "\n",
        "# !unzip -qo 'train_data.zip' -d '/content'\n",
        "\n",
        "\n",
        "# # !unzip -qo '/content/train_data.zip' -d '/content/data'"
      ]
    },
    {
      "cell_type": "markdown",
      "metadata": {
        "id": "O68hT27SXClj"
      },
      "source": [
        "# Configs"
      ]
    },
    {
      "cell_type": "code",
      "execution_count": null,
      "metadata": {
        "id": "S7qpMxG0XCJz"
      },
      "outputs": [],
      "source": [
        "config = {\n",
        "    'batch_size': 10, # Increase this if your GPU can handle it\n",
        "    'lr': 0.00005,\n",
        "    # 'lr': 0.0001,\n",
        "    'epochs': 35, # 10 epochs is recommended ONLY for the early submission - you will have to train for much longer typically.\n",
        "    # Include other parameters as needed.\n",
        "}"
      ]
    },
    {
      "cell_type": "markdown",
      "metadata": {
        "id": "sSeiKHYrM-6b"
      },
      "source": [
        "#Dataset"
      ]
    },
    {
      "cell_type": "code",
      "execution_count": null,
      "metadata": {
        "id": "tmRX5omaNDEZ"
      },
      "outputs": [],
      "source": [
        "class Projectdataset(torch.utils.data.Dataset):\n",
        "\n",
        "    def __init__(self, root, train_val = \"train\", caption_type = \"ViT_L_14@336px\"): # Feel free to add more arguments\n",
        "\n",
        "        self.vid_feat, self.cap_feat = [], []\n",
        "\n",
        "        self.vid_dir_train       = os.path.join(root,\"train\"+\"_data\")\n",
        "        self.cap_dir_train = os.path.join(root,caption_type+\"_\"+\"train\"+\".json\")\n",
        "\n",
        "        self.vid_dir_val       = os.path.join(root,\"val\"+\"_data\")\n",
        "        self.cap_dir_val = os.path.join(root,caption_type+\"_\"+\"val\"+\".json\")\n",
        "\n",
        "        cap_dir_train = open(self.cap_dir_train)\n",
        "        cap_json_train = json.load(cap_dir_train)\n",
        "\n",
        "        cap_dir_val = open(self.cap_dir_val)\n",
        "        cap_json_val = json.load(cap_dir_val)\n",
        "\n",
        "        cap_names_train   = sorted(list(cap_json_train.keys()))\n",
        "        cap_names_val   = sorted(list(cap_json_val.keys()))\n",
        "\n",
        "        vid_names_train    = sorted(os.listdir(self.vid_dir_train))\n",
        "        vid_names_val    = sorted(os.listdir(self.vid_dir_val))\n",
        "\n",
        "        assert len(vid_names_train) + len(vid_names_val) == len(cap_names_train) + len(cap_names_val) \n",
        "\n",
        "        # TODO: Iterate through mfccs and transcripts\n",
        "        for i in cap_names_train:\n",
        "            vid        = np.load(os.path.join(self.vid_dir_train,i+\".npy\")).squeeze()\n",
        "            cap  = cap_json_train[i][\"Text\"]\n",
        "            cap = np.array(cap).squeeze().mean(axis=0)\n",
        "            self.vid_feat.append(vid)\n",
        "            self.cap_feat.append(cap)\n",
        "        \n",
        "        for i in cap_names_val:\n",
        "            vid        = np.load(os.path.join(self.vid_dir_val,i+\".npy\")).squeeze()\n",
        "            cap  = cap_json_val[i][\"Text\"]\n",
        "            cap = np.array(cap).squeeze().mean(axis=0)\n",
        "\n",
        "            self.vid_feat.append(vid)\n",
        "            self.cap_feat.append(cap)\n",
        "\n",
        "\n",
        "        self.length = len(self.vid_feat)\n",
        "        cap_dir_train.close()\n",
        "        cap_dir_val.close()\n",
        "\n",
        "    def __len__(self):\n",
        "        return self.length\n",
        "\n",
        "    def __getitem__(self, ind):\n",
        "\n",
        "        vid = self.vid_feat[ind]\n",
        "        cap = self.cap_feat[ind]\n",
        "\n",
        "        vid      = torch.FloatTensor(vid) \n",
        "        cap      = torch.FloatTensor(cap)       \n",
        "\n",
        "        return vid,cap \n"
      ]
    },
    {
      "cell_type": "code",
      "execution_count": null,
      "metadata": {
        "id": "SqSR063BGE2e"
      },
      "outputs": [],
      "source": [
        "root = r\"/content/drive/MyDrive/\"\n",
        "train_data = Projectdataset(root, train_val = \"train\", caption_type = \"ViT_L_14@336px\")\n",
        "val_data = Projectdataset(root, train_val = \"val\", caption_type = \"ViT_L_14@336px\")"
      ]
    },
    {
      "cell_type": "code",
      "execution_count": null,
      "metadata": {
        "colab": {
          "base_uri": "https://localhost:8080/"
        },
        "id": "rxinCNspGhIu",
        "outputId": "afddb43e-f9b9-439e-ed52-71a3fa6a9389"
      },
      "outputs": [
        {
          "output_type": "stream",
          "name": "stdout",
          "text": [
            "Train dataset samples = 1790, batches = 179\n"
          ]
        },
        {
          "output_type": "stream",
          "name": "stderr",
          "text": [
            "/usr/local/lib/python3.9/dist-packages/torch/utils/data/dataloader.py:561: UserWarning: This DataLoader will create 4 worker processes in total. Our suggested max number of worker in current system is 2, which is smaller than what this DataLoader is going to create. Please be aware that excessive worker creation might get DataLoader running slow or even freeze, lower the worker number to avoid potential slowness/freeze if necessary.\n",
            "  warnings.warn(_create_warning_msg(\n"
          ]
        }
      ],
      "source": [
        "train_loader = torch.utils.data.DataLoader(\n",
        "    dataset     = train_data, \n",
        "    num_workers = 4,\n",
        "    batch_size  = config['batch_size'], \n",
        "    pin_memory  = True,\n",
        "    shuffle     = False,\n",
        ")\n",
        "\n",
        "val_loader = torch.utils.data.DataLoader(\n",
        "    dataset     = val_data, \n",
        "    num_workers = 2,\n",
        "    batch_size  = config['batch_size'],\n",
        "    pin_memory  = True,\n",
        "    shuffle     = False,\n",
        ")\n",
        "\n",
        "print(\"Train dataset samples = {}, batches = {}\".format(train_data.__len__(), len(train_loader)))\n",
        "print(\"Validation dataset samples = {}, batches = {}\".format(val_data.__len__(), len(val_loader)))"
      ]
    },
    {
      "cell_type": "code",
      "execution_count": null,
      "metadata": {
        "colab": {
          "base_uri": "https://localhost:8080/"
        },
        "id": "ZOHMsTujGndL",
        "outputId": "29cb5181-e98d-44c5-c510-3a6074f7534f"
      },
      "outputs": [
        {
          "data": {
            "text/plain": [
              "True"
            ]
          },
          "execution_count": 11,
          "metadata": {},
          "output_type": "execute_result"
        }
      ],
      "source": [
        "import torch\n",
        "torch.cuda.is_available()"
      ]
    },
    {
      "cell_type": "code",
      "execution_count": null,
      "metadata": {
        "colab": {
          "base_uri": "https://localhost:8080/"
        },
        "id": "jPTg9q46GndL",
        "outputId": "1d027470-a5f6-4c71-a3ea-d405b883053b"
      },
      "outputs": [
        {
          "data": {
            "text/plain": [
              "1"
            ]
          },
          "execution_count": 12,
          "metadata": {},
          "output_type": "execute_result"
        }
      ],
      "source": [
        "torch.cuda.device_count()"
      ]
    },
    {
      "cell_type": "code",
      "execution_count": null,
      "metadata": {
        "colab": {
          "base_uri": "https://localhost:8080/"
        },
        "id": "kJmTySEKGndL",
        "outputId": "5ba342e8-defe-4070-b888-f0536b95e0ea"
      },
      "outputs": [
        {
          "output_type": "stream",
          "name": "stdout",
          "text": [
            "video data shape is:  torch.Size([10, 200, 3072])\n",
            "caption data shape is:  torch.Size([10, 768])\n"
          ]
        }
      ],
      "source": [
        "for i,data in enumerate(train_loader):\n",
        "\n",
        "    vid, cap = data\n",
        "    print(\"video data shape is: \", vid.shape)\n",
        "    print(\"caption data shape is: \", cap.shape)\n",
        "    break"
      ]
    },
    {
      "cell_type": "markdown",
      "metadata": {
        "id": "zs2Xw_tl0IQ8"
      },
      "source": [
        "## Models"
      ]
    },
    {
      "cell_type": "code",
      "execution_count": null,
      "metadata": {
        "id": "OgiCkOM2IBwp"
      },
      "outputs": [],
      "source": [
        "class PermuteBlock(torch.nn.Module):\n",
        "    def forward(self, x):\n",
        "        return x.transpose(1, 2)\n",
        "\n",
        "class Linear1(torch.nn.Module):\n",
        "    def __init__(self, input_size=3072, output_size=768):\n",
        "\n",
        "        super(Linear1, self).__init__()\n",
        "        self.name = \"linear 1\"\n",
        "        \n",
        "        self.linear1 = torch.nn.Linear(input_size, input_size)\n",
        "        self.linear2 = torch.nn.Linear(input_size, input_size)\n",
        "        self.linear3 = torch.nn.Linear(input_size, input_size)\n",
        "        self.gelu    = torch.nn.GELU()\n",
        "        self.dropout = torch.nn.Dropout(p=0.15)\n",
        "        self.bn1     = torch.nn.BatchNorm1d(input_size)\n",
        "        self.bn2     = torch.nn.BatchNorm1d(input_size)\n",
        "        self.downsize = torch.nn.Linear(input_size, output_size) \n",
        "        self.sigmoid = torch.nn.Sigmoid()     \n",
        "        self.permute = PermuteBlock()\n",
        "    def forward(self, x):\n",
        "        x = self.linear1(x)\n",
        "        x = self.permute(x)\n",
        "        x = self.permute(self.bn1(x))\n",
        "        x = self.dropout(self.gelu(x))\n",
        "        x = self.linear2(x)\n",
        "        x = self.permute(x)\n",
        "        x = self.permute(self.bn2(x))\n",
        "        x = self.gelu(x)\n",
        "        out = torch.mean(x, 1)\n",
        "        out = self.downsize(self.dropout(out))\n",
        "        return out\n",
        "\n",
        "\n",
        "class model_conv1(torch.nn.Module):\n",
        "  def __init__(self, input_size=3072, output_size=768):\n",
        "    super(model_conv1,self).__init__()\n",
        "    self.name = \"model_conv1\"\n",
        "    self.conv = nn.Sequential(\n",
        "        torch.nn.Conv1d(input_size,input_size,kernel_size=5, padding=2, groups = input_size),\n",
        "        torch.nn.GELU(), ## Added this\n",
        "        torch.nn.BatchNorm1d(num_features=3072), ## Added this\n",
        "        torch.nn.Conv1d(input_size,input_size,kernel_size=5, padding=2, groups = input_size)\n",
        "        )\n",
        "    self.gelu = torch.nn.GELU()\n",
        "    self.dropout = torch.nn.Dropout(p=0.15)\n",
        "    self.downsize = torch.nn.Linear(input_size,output_size)\n",
        "    self.permute = PermuteBlock()\n",
        "\n",
        "  def forward(self, x):\n",
        "    x = self.permute(x)\n",
        "    x = self.conv(x)\n",
        "    x = self.permute(x)\n",
        "    out = torch.mean(x, 1)\n",
        "    out = self.dropout(self.downsize(out))\n",
        "    return out\n",
        "\n",
        "\n",
        "class model_conv1_linear(torch.nn.Module):\n",
        "  def __init__(self, input_size=3072, output_size=768):\n",
        "    super(model_conv1_linear,self).__init__()\n",
        "    self.name = \"model_conv1\"\n",
        "    self.conv = nn.Sequential(\n",
        "        torch.nn.Conv1d(input_size,input_size,kernel_size=5, padding=2, groups = input_size),\n",
        "        torch.nn.BatchNorm1d(input_size),\n",
        "        torch.nn.GELU(),\n",
        "        torch.nn.Conv1d(input_size,input_size,kernel_size=5, padding=2, groups = input_size)\n",
        "        )\n",
        "    self.gelu = torch.nn.GELU()\n",
        "    self.dropout = torch.nn.Dropout(p=0.15)\n",
        "    self.bn = torch.nn.BatchNorm1d(input_size)\n",
        "    self.linear = torch.nn.Linear(input_size, input_size)\n",
        "    self.downsize = torch.nn.Linear(input_size,output_size)\n",
        "    self.permute = PermuteBlock()\n",
        "  def forward(self, x):\n",
        "    x = self.permute(x)\n",
        "    x = self.bn(self.conv(x))\n",
        "    x = self.permute(x)\n",
        "    x = self.dropout(x)\n",
        "    x = self.linear(x)\n",
        "    x = self.gelu(x)\n",
        "    out = torch.mean(x, 1)\n",
        "    out = self.dropout(self.downsize(out))\n",
        "    return out\n",
        "\n",
        "\n",
        "class model_conv2(torch.nn.Module):\n",
        "  def __init__(self, input_size=3072, output_size=768):\n",
        "    super(model_conv2,self).__init__()\n",
        "    self.name = \"model_conv2\"\n",
        "    self.conv = nn.Sequential(\n",
        "        torch.nn.Conv1d(200,200,kernel_size=5, padding=2, groups=200),\n",
        "        torch.nn.BatchNorm1d(200),\n",
        "        torch.nn.GELU(),\n",
        "        torch.nn.Conv1d(200,200,kernel_size=5, padding=2, groups=200)\n",
        "        )\n",
        "    self.gelu = torch.nn.GELU()\n",
        "    self.dropout = torch.nn.Dropout(p=0.15)\n",
        "    self.downsize = torch.nn.Linear(input_size,output_size)\n",
        "\n",
        "  def forward(self, x):\n",
        "    x = self.conv(x)\n",
        "    out = torch.mean(x, 1)\n",
        "    out = self.dropout(self.downsize(out))\n",
        "    return out\n"
      ]
    },
    {
      "cell_type": "code",
      "execution_count": null,
      "metadata": {
        "id": "NdZzMCLmXicj"
      },
      "outputs": [],
      "source": [
        "class Linear1_imp(torch.nn.Module):\n",
        "    def __init__(self, input_size=3072, output_size=768):\n",
        "\n",
        "        super(Linear1_imp, self).__init__()\n",
        "        self.name = \"linear 1\"\n",
        "        \n",
        "        self.linear1 = torch.nn.Linear(input_size, input_size)\n",
        "        self.linear2 = torch.nn.Linear(input_size, input_size)\n",
        "        self.gelu    = torch.nn.GELU()\n",
        "        self.dropout = torch.nn.Dropout(p=0.15)\n",
        "        self.bn1     = torch.nn.BatchNorm1d(input_size)\n",
        "        self.bn2     = torch.nn.BatchNorm1d(input_size)\n",
        "        self.permute = PermuteBlock()\n",
        "    def forward(self, x):\n",
        "        x = self.linear1(x)\n",
        "        x = self.permute(x)\n",
        "        x = self.permute(self.bn1(x))\n",
        "        x = self.dropout(self.gelu(x))\n",
        "        x = self.linear2(x)\n",
        "        x = self.permute(x)\n",
        "        x = self.permute(self.bn2(x))\n",
        "        return x\n",
        "\n",
        "\n",
        "class model_conv1_imp_bn(torch.nn.Module):\n",
        "  def __init__(self, input_size=3072, output_size=768):\n",
        "    super(model_conv1_imp_bn,self).__init__()\n",
        "    self.name = \"model_conv1_imp\"\n",
        "    self.conv = torch.nn.Sequential(\n",
        "        torch.nn.Conv1d(input_size,input_size,kernel_size=5, padding=2, groups = input_size),\n",
        "        torch.nn.GELU(), ## Added this\n",
        "        torch.nn.BatchNorm1d(num_features=3072), ## Added this\n",
        "        torch.nn.Conv1d(input_size,input_size,kernel_size=5, padding=2, groups = input_size)\n",
        "        )\n",
        "    self.permute = PermuteBlock()\n",
        "  def forward(self, x):\n",
        "    x = self.permute(x)\n",
        "    x = self.conv(x)\n",
        "    x = self.permute(x)\n",
        "    return x\n",
        "\n",
        "class model_conv1_linear_imp(torch.nn.Module):\n",
        "  def __init__(self, input_size=3072, output_size=768):\n",
        "    super(model_conv1_linear_imp,self).__init__()\n",
        "    self.name = \"model_conv1_update2\"\n",
        "    self.conv = torch.nn.Sequential(\n",
        "        torch.nn.Conv1d(input_size,input_size,kernel_size=5, padding=2, groups = input_size),\n",
        "        torch.nn.BatchNorm1d(3072),\n",
        "        torch.nn.GELU(),\n",
        "        torch.nn.Conv1d(input_size,input_size,kernel_size=5, padding=2, groups = input_size)\n",
        "        )\n",
        "    self.linear = torch.nn.Linear(input_size, input_size)\n",
        "    self.bn = torch.nn.BatchNorm1d(input_size)\n",
        "    self.permute = PermuteBlock()\n",
        "\n",
        "  def forward(self, x):\n",
        "    x = self.permute(x)\n",
        "    x = self.bn(self.conv(x))\n",
        "    x = self.permute(x)\n",
        "    out = self.linear(x)\n",
        "    return out\n",
        "\n",
        "class model_conv2_imp(torch.nn.Module):\n",
        "  def __init__(self, input_size=3072, output_size=768):\n",
        "    super(model_conv2_imp,self).__init__()\n",
        "    self.name = \"model_conv2_imp\"\n",
        "    self.conv = torch.nn.Sequential(\n",
        "        torch.nn.Conv1d(200,200,kernel_size=5, padding=2, groups=200),\n",
        "        torch.nn.BatchNorm1d(200),\n",
        "        torch.nn.GELU(),\n",
        "        torch.nn.Conv1d(200,200,kernel_size=5, padding=2, groups=200)\n",
        "        )\n",
        "  def forward(self, x):\n",
        "    x = self.conv(x)\n",
        "    return x\n"
      ]
    },
    {
      "cell_type": "code",
      "execution_count": null,
      "metadata": {
        "colab": {
          "base_uri": "https://localhost:8080/",
          "height": 36
        },
        "id": "phoo6-DtI8zF",
        "outputId": "9b26cca4-f0ba-446a-d5fb-82d86565768c"
      },
      "outputs": [
        {
          "data": {
            "application/vnd.google.colaboratory.intrinsic+json": {
              "type": "string"
            },
            "text/plain": [
              "'cuda'"
            ]
          },
          "execution_count": 71,
          "metadata": {},
          "output_type": "execute_result"
        }
      ],
      "source": [
        "DEVICE"
      ]
    },
    {
      "cell_type": "code",
      "execution_count": null,
      "metadata": {
        "colab": {
          "base_uri": "https://localhost:8080/",
          "height": 964
        },
        "id": "40JGtdhLcNJ5",
        "outputId": "f109620a-461c-4f57-d735-3955dde99d4c"
      },
      "outputs": [
        {
          "output_type": "stream",
          "name": "stdout",
          "text": [
            "================================================================\n",
            "             Kernel Shape     Output Shape     Params  Mult-Adds\n",
            "Layer                                                           \n",
            "0_linear1    [3072, 3072]  [10, 200, 3072]  9.440256M  9.437184M\n",
            "1_permute               -  [10, 3072, 200]          -          -\n",
            "2_bn1              [3072]  [10, 3072, 200]     6.144k     3.072k\n",
            "3_permute               -  [10, 200, 3072]          -          -\n",
            "4_gelu                  -  [10, 200, 3072]          -          -\n",
            "5_dropout               -  [10, 200, 3072]          -          -\n",
            "6_linear2    [3072, 3072]  [10, 200, 3072]  9.440256M  9.437184M\n",
            "7_permute               -  [10, 3072, 200]          -          -\n",
            "8_bn2              [3072]  [10, 3072, 200]     6.144k     3.072k\n",
            "9_permute               -  [10, 200, 3072]          -          -\n",
            "10_gelu                 -  [10, 200, 3072]          -          -\n",
            "11_dropout              -       [10, 3072]          -          -\n",
            "12_downsize   [3072, 768]        [10, 768]  2.360064M  2.359296M\n",
            "----------------------------------------------------------------\n",
            "                          Totals\n",
            "Total params          21.252864M\n",
            "Trainable params      21.252864M\n",
            "Non-trainable params         0.0\n",
            "Mult-Adds             21.239808M\n",
            "================================================================\n"
          ]
        },
        {
          "output_type": "stream",
          "name": "stderr",
          "text": [
            "/usr/local/lib/python3.9/dist-packages/torchsummaryX/torchsummaryX.py:101: FutureWarning: The default value of numeric_only in DataFrame.sum is deprecated. In a future version, it will default to False. In addition, specifying 'numeric_only=None' is deprecated. Select only valid columns or specify the value of numeric_only to silence this warning.\n",
            "  df_sum = df.sum()\n"
          ]
        },
        {
          "output_type": "execute_result",
          "data": {
            "text/plain": [
              "             Kernel Shape     Output Shape     Params  Mult-Adds\n",
              "Layer                                                           \n",
              "0_linear1    [3072, 3072]  [10, 200, 3072]  9440256.0  9437184.0\n",
              "1_permute               -  [10, 3072, 200]        NaN        NaN\n",
              "2_bn1              [3072]  [10, 3072, 200]     6144.0     3072.0\n",
              "3_permute               -  [10, 200, 3072]        NaN        NaN\n",
              "4_gelu                  -  [10, 200, 3072]        NaN        NaN\n",
              "5_dropout               -  [10, 200, 3072]        NaN        NaN\n",
              "6_linear2    [3072, 3072]  [10, 200, 3072]  9440256.0  9437184.0\n",
              "7_permute               -  [10, 3072, 200]        NaN        NaN\n",
              "8_bn2              [3072]  [10, 3072, 200]     6144.0     3072.0\n",
              "9_permute               -  [10, 200, 3072]        NaN        NaN\n",
              "10_gelu                 -  [10, 200, 3072]        NaN        NaN\n",
              "11_dropout              -       [10, 3072]        NaN        NaN\n",
              "12_downsize   [3072, 768]        [10, 768]  2360064.0  2359296.0"
            ],
            "text/html": [
              "\n",
              "  <div id=\"df-338a3233-b296-4d2b-b49e-0ccaf8ae0b7e\">\n",
              "    <div class=\"colab-df-container\">\n",
              "      <div>\n",
              "<style scoped>\n",
              "    .dataframe tbody tr th:only-of-type {\n",
              "        vertical-align: middle;\n",
              "    }\n",
              "\n",
              "    .dataframe tbody tr th {\n",
              "        vertical-align: top;\n",
              "    }\n",
              "\n",
              "    .dataframe thead th {\n",
              "        text-align: right;\n",
              "    }\n",
              "</style>\n",
              "<table border=\"1\" class=\"dataframe\">\n",
              "  <thead>\n",
              "    <tr style=\"text-align: right;\">\n",
              "      <th></th>\n",
              "      <th>Kernel Shape</th>\n",
              "      <th>Output Shape</th>\n",
              "      <th>Params</th>\n",
              "      <th>Mult-Adds</th>\n",
              "    </tr>\n",
              "    <tr>\n",
              "      <th>Layer</th>\n",
              "      <th></th>\n",
              "      <th></th>\n",
              "      <th></th>\n",
              "      <th></th>\n",
              "    </tr>\n",
              "  </thead>\n",
              "  <tbody>\n",
              "    <tr>\n",
              "      <th>0_linear1</th>\n",
              "      <td>[3072, 3072]</td>\n",
              "      <td>[10, 200, 3072]</td>\n",
              "      <td>9440256.0</td>\n",
              "      <td>9437184.0</td>\n",
              "    </tr>\n",
              "    <tr>\n",
              "      <th>1_permute</th>\n",
              "      <td>-</td>\n",
              "      <td>[10, 3072, 200]</td>\n",
              "      <td>NaN</td>\n",
              "      <td>NaN</td>\n",
              "    </tr>\n",
              "    <tr>\n",
              "      <th>2_bn1</th>\n",
              "      <td>[3072]</td>\n",
              "      <td>[10, 3072, 200]</td>\n",
              "      <td>6144.0</td>\n",
              "      <td>3072.0</td>\n",
              "    </tr>\n",
              "    <tr>\n",
              "      <th>3_permute</th>\n",
              "      <td>-</td>\n",
              "      <td>[10, 200, 3072]</td>\n",
              "      <td>NaN</td>\n",
              "      <td>NaN</td>\n",
              "    </tr>\n",
              "    <tr>\n",
              "      <th>4_gelu</th>\n",
              "      <td>-</td>\n",
              "      <td>[10, 200, 3072]</td>\n",
              "      <td>NaN</td>\n",
              "      <td>NaN</td>\n",
              "    </tr>\n",
              "    <tr>\n",
              "      <th>5_dropout</th>\n",
              "      <td>-</td>\n",
              "      <td>[10, 200, 3072]</td>\n",
              "      <td>NaN</td>\n",
              "      <td>NaN</td>\n",
              "    </tr>\n",
              "    <tr>\n",
              "      <th>6_linear2</th>\n",
              "      <td>[3072, 3072]</td>\n",
              "      <td>[10, 200, 3072]</td>\n",
              "      <td>9440256.0</td>\n",
              "      <td>9437184.0</td>\n",
              "    </tr>\n",
              "    <tr>\n",
              "      <th>7_permute</th>\n",
              "      <td>-</td>\n",
              "      <td>[10, 3072, 200]</td>\n",
              "      <td>NaN</td>\n",
              "      <td>NaN</td>\n",
              "    </tr>\n",
              "    <tr>\n",
              "      <th>8_bn2</th>\n",
              "      <td>[3072]</td>\n",
              "      <td>[10, 3072, 200]</td>\n",
              "      <td>6144.0</td>\n",
              "      <td>3072.0</td>\n",
              "    </tr>\n",
              "    <tr>\n",
              "      <th>9_permute</th>\n",
              "      <td>-</td>\n",
              "      <td>[10, 200, 3072]</td>\n",
              "      <td>NaN</td>\n",
              "      <td>NaN</td>\n",
              "    </tr>\n",
              "    <tr>\n",
              "      <th>10_gelu</th>\n",
              "      <td>-</td>\n",
              "      <td>[10, 200, 3072]</td>\n",
              "      <td>NaN</td>\n",
              "      <td>NaN</td>\n",
              "    </tr>\n",
              "    <tr>\n",
              "      <th>11_dropout</th>\n",
              "      <td>-</td>\n",
              "      <td>[10, 3072]</td>\n",
              "      <td>NaN</td>\n",
              "      <td>NaN</td>\n",
              "    </tr>\n",
              "    <tr>\n",
              "      <th>12_downsize</th>\n",
              "      <td>[3072, 768]</td>\n",
              "      <td>[10, 768]</td>\n",
              "      <td>2360064.0</td>\n",
              "      <td>2359296.0</td>\n",
              "    </tr>\n",
              "  </tbody>\n",
              "</table>\n",
              "</div>\n",
              "      <button class=\"colab-df-convert\" onclick=\"convertToInteractive('df-338a3233-b296-4d2b-b49e-0ccaf8ae0b7e')\"\n",
              "              title=\"Convert this dataframe to an interactive table.\"\n",
              "              style=\"display:none;\">\n",
              "        \n",
              "  <svg xmlns=\"http://www.w3.org/2000/svg\" height=\"24px\"viewBox=\"0 0 24 24\"\n",
              "       width=\"24px\">\n",
              "    <path d=\"M0 0h24v24H0V0z\" fill=\"none\"/>\n",
              "    <path d=\"M18.56 5.44l.94 2.06.94-2.06 2.06-.94-2.06-.94-.94-2.06-.94 2.06-2.06.94zm-11 1L8.5 8.5l.94-2.06 2.06-.94-2.06-.94L8.5 2.5l-.94 2.06-2.06.94zm10 10l.94 2.06.94-2.06 2.06-.94-2.06-.94-.94-2.06-.94 2.06-2.06.94z\"/><path d=\"M17.41 7.96l-1.37-1.37c-.4-.4-.92-.59-1.43-.59-.52 0-1.04.2-1.43.59L10.3 9.45l-7.72 7.72c-.78.78-.78 2.05 0 2.83L4 21.41c.39.39.9.59 1.41.59.51 0 1.02-.2 1.41-.59l7.78-7.78 2.81-2.81c.8-.78.8-2.07 0-2.86zM5.41 20L4 18.59l7.72-7.72 1.47 1.35L5.41 20z\"/>\n",
              "  </svg>\n",
              "      </button>\n",
              "      \n",
              "  <style>\n",
              "    .colab-df-container {\n",
              "      display:flex;\n",
              "      flex-wrap:wrap;\n",
              "      gap: 12px;\n",
              "    }\n",
              "\n",
              "    .colab-df-convert {\n",
              "      background-color: #E8F0FE;\n",
              "      border: none;\n",
              "      border-radius: 50%;\n",
              "      cursor: pointer;\n",
              "      display: none;\n",
              "      fill: #1967D2;\n",
              "      height: 32px;\n",
              "      padding: 0 0 0 0;\n",
              "      width: 32px;\n",
              "    }\n",
              "\n",
              "    .colab-df-convert:hover {\n",
              "      background-color: #E2EBFA;\n",
              "      box-shadow: 0px 1px 2px rgba(60, 64, 67, 0.3), 0px 1px 3px 1px rgba(60, 64, 67, 0.15);\n",
              "      fill: #174EA6;\n",
              "    }\n",
              "\n",
              "    [theme=dark] .colab-df-convert {\n",
              "      background-color: #3B4455;\n",
              "      fill: #D2E3FC;\n",
              "    }\n",
              "\n",
              "    [theme=dark] .colab-df-convert:hover {\n",
              "      background-color: #434B5C;\n",
              "      box-shadow: 0px 1px 3px 1px rgba(0, 0, 0, 0.15);\n",
              "      filter: drop-shadow(0px 1px 2px rgba(0, 0, 0, 0.3));\n",
              "      fill: #FFFFFF;\n",
              "    }\n",
              "  </style>\n",
              "\n",
              "      <script>\n",
              "        const buttonEl =\n",
              "          document.querySelector('#df-338a3233-b296-4d2b-b49e-0ccaf8ae0b7e button.colab-df-convert');\n",
              "        buttonEl.style.display =\n",
              "          google.colab.kernel.accessAllowed ? 'block' : 'none';\n",
              "\n",
              "        async function convertToInteractive(key) {\n",
              "          const element = document.querySelector('#df-338a3233-b296-4d2b-b49e-0ccaf8ae0b7e');\n",
              "          const dataTable =\n",
              "            await google.colab.kernel.invokeFunction('convertToInteractive',\n",
              "                                                     [key], {});\n",
              "          if (!dataTable) return;\n",
              "\n",
              "          const docLinkHtml = 'Like what you see? Visit the ' +\n",
              "            '<a target=\"_blank\" href=https://colab.research.google.com/notebooks/data_table.ipynb>data table notebook</a>'\n",
              "            + ' to learn more about interactive tables.';\n",
              "          element.innerHTML = '';\n",
              "          dataTable['output_type'] = 'display_data';\n",
              "          await google.colab.output.renderOutput(dataTable, element);\n",
              "          const docLink = document.createElement('div');\n",
              "          docLink.innerHTML = docLinkHtml;\n",
              "          element.appendChild(docLink);\n",
              "        }\n",
              "      </script>\n",
              "    </div>\n",
              "  </div>\n",
              "  "
            ]
          },
          "metadata": {},
          "execution_count": 17
        }
      ],
      "source": [
        "gc.collect()\n",
        "torch.cuda.empty_cache()\n",
        "model = Linear1().to(DEVICE)\n",
        "summary(model, vid.to(DEVICE))\n"
      ]
    },
    {
      "cell_type": "markdown",
      "source": [
        "#Only save the tuner part of the models"
      ],
      "metadata": {
        "id": "y2Agld1yCvFu"
      }
    },
    {
      "cell_type": "code",
      "execution_count": null,
      "metadata": {
        "id": "y8hTkHGtW_1I"
      },
      "outputs": [],
      "source": [
        "model = Linear1_imp()\n",
        "save_path =\"model.pth\"\n",
        "torch.save({'model_state_dict':model.state_dict()},'/content/'+save_path)"
      ]
    },
    {
      "cell_type": "code",
      "execution_count": null,
      "metadata": {
        "id": "RvcOeX1hXQJv"
      },
      "outputs": [],
      "source": [
        "pretrained_check_point = torch.load(\"/content/model1_run.pth\")\n",
        "model_check_point = torch.load(\"/content/model.pth\")"
      ]
    },
    {
      "cell_type": "code",
      "execution_count": null,
      "metadata": {
        "id": "odW6uirDXTJs"
      },
      "outputs": [],
      "source": [
        "pretrained_dict = pretrained_check_point[\"model_state_dict\"]\n",
        "model_dict = model_check_point[\"model_state_dict\"]"
      ]
    },
    {
      "cell_type": "code",
      "execution_count": null,
      "metadata": {
        "id": "xHoYW-F-PqEN"
      },
      "outputs": [],
      "source": [
        "pretrained_dict"
      ]
    },
    {
      "cell_type": "code",
      "execution_count": null,
      "metadata": {
        "colab": {
          "base_uri": "https://localhost:8080/"
        },
        "id": "W4JRoYUGYAef",
        "outputId": "38d7bdae-5327-4a84-ccb5-237b229e2daf"
      },
      "outputs": [
        {
          "output_type": "execute_result",
          "data": {
            "text/plain": [
              "<All keys matched successfully>"
            ]
          },
          "metadata": {},
          "execution_count": 30
        }
      ],
      "source": [
        "pretrained_dict = {k: v for k, v in pretrained_dict.items() if k in model_dict}\n",
        "# 2. overwrite entries in the existing state dict\n",
        "model_dict.update(pretrained_dict)\n",
        "# 3. load the new state dict\n",
        "model.load_state_dict(model_dict)"
      ]
    },
    {
      "cell_type": "code",
      "execution_count": null,
      "metadata": {
        "id": "AkwyWiZVPX5_"
      },
      "outputs": [],
      "source": [
        "model_dict"
      ]
    },
    {
      "cell_type": "code",
      "execution_count": null,
      "metadata": {
        "id": "te__HWRpJr8_"
      },
      "outputs": [],
      "source": [
        "###Save the actual model state dict to be used for PDVC\n",
        "save_path = \"ACTUAL_Linear1_imp.pth\"\n",
        "torch.save({'model_state_dict':model.state_dict()},\n",
        "                  '/content/drive/MyDrive/pth files final/'+save_path)"
      ]
    },
    {
      "cell_type": "code",
      "execution_count": null,
      "metadata": {
        "id": "ML9zSZVuK3pX"
      },
      "outputs": [],
      "source": [
        "model.state_dict()"
      ]
    },
    {
      "cell_type": "markdown",
      "metadata": {
        "id": "KZCn0qHuZRKj"
      },
      "source": [
        "# Optimizers, scheduler and loss\n",
        "\n",
        "\n"
      ]
    },
    {
      "cell_type": "code",
      "execution_count": null,
      "metadata": {
        "id": "UowI9OcUYPjP"
      },
      "outputs": [],
      "source": [
        "# criterion = torch.nn.MSELoss()\n",
        "\n",
        "criterion = torch.nn.CosineEmbeddingLoss()\n",
        "optimizer = torch.optim.AdamW(model.parameters(), lr= config['lr'])\n",
        "scheduler = torch.optim.lr_scheduler.CosineAnnealingLR(optimizer, 30, eta_min = 0.000005)\n",
        "scaler = torch.cuda.amp.GradScaler()"
      ]
    },
    {
      "cell_type": "markdown",
      "metadata": {
        "id": "dzM11HtcboYv"
      },
      "source": [
        "# Train Funtion"
      ]
    },
    {
      "cell_type": "code",
      "execution_count": null,
      "metadata": {
        "id": "bgSw6iJJavBZ"
      },
      "outputs": [],
      "source": [
        "def train(model, dataloader, optimizer, criterion):\n",
        "    \n",
        "    model.train()\n",
        "\n",
        "    batch_bar   = tqdm(total=len(dataloader), dynamic_ncols=True, leave=False, position=0, desc='Train', ncols=5) \n",
        "\n",
        "    num_correct = 0\n",
        "    total_loss  = 0\n",
        "\n",
        "    for i, (vid, caption) in enumerate(dataloader):\n",
        "        \n",
        "        optimizer.zero_grad()\n",
        "\n",
        "        vid, caption =vid.to(DEVICE), caption.to(DEVICE)\n",
        "        \n",
        "        with torch.cuda.amp.autocast(): \n",
        "            output = model(vid)\n",
        "            batch, _ = output.shape\n",
        "            ## for cosine similarity\n",
        "            target = torch.ones(batch).to(DEVICE)\n",
        "            loss    = criterion(output, caption, target)\n",
        "            ## for MSE\n",
        "            # loss    = criterion(output, caption)\n",
        "        total_loss      += float(loss.item())\n",
        "\n",
        "        batch_bar.set_postfix(\n",
        "            loss        = \"{:.04f}\".format(float(total_loss / (i + 1))),\n",
        "            lr          = \"{:.04f}\".format(float(optimizer.param_groups[0]['lr']))\n",
        "        )\n",
        "        \n",
        "        scaler.scale(loss).backward() \n",
        "        scaler.step(optimizer)\n",
        "        scaler.update() \n",
        "      \n",
        "        batch_bar.update() \n",
        "        del vid, caption, output, loss\n",
        "    batch_bar.close() \n",
        "\n",
        "    total_loss  = float(total_loss / len(dataloader))\n",
        "\n",
        "    return total_loss"
      ]
    },
    {
      "cell_type": "code",
      "execution_count": null,
      "metadata": {
        "id": "m5V2UdnpdEoK"
      },
      "outputs": [],
      "source": [
        "def validate(model, dataloader, criterion):\n",
        "  \n",
        "    model.eval()\n",
        "    batch_bar = tqdm(total=len(dataloader), dynamic_ncols=True, position=0, leave=False, desc='Val', ncols=5)\n",
        "    \n",
        "    total_loss = 0.0\n",
        "\n",
        "    for i, (vid, caption) in enumerate(dataloader):\n",
        "\n",
        "        vid, caption =vid.to(DEVICE), caption.to(DEVICE)\n",
        "        \n",
        "\n",
        "        with torch.inference_mode():\n",
        "\n",
        "            output = model(vid)\n",
        "            batch, _ = output.shape\n",
        "            ## for cosine similarity\n",
        "            target = torch.ones(batch).to(DEVICE)\n",
        "            loss = criterion(output, caption, target)\n",
        "            ## for mse\n",
        "            # loss = criterion(output, caption)\n",
        "\n",
        "        total_loss += float(loss.item())\n",
        "\n",
        "        batch_bar.set_postfix(loss=\"{:.04f}\".format(float(total_loss / (i + 1))))\n",
        "\n",
        "        batch_bar.update()\n",
        "        \n",
        "    batch_bar.close()\n",
        "    total_loss = float(total_loss / len(dataloader))\n",
        "    print(\"total_loss:\", total_loss)\n",
        "    return total_loss"
      ]
    },
    {
      "cell_type": "code",
      "execution_count": null,
      "metadata": {
        "id": "cmotca6pcLLY"
      },
      "outputs": [],
      "source": [
        "gc.collect()\n",
        "torch.cuda.empty_cache()"
      ]
    },
    {
      "cell_type": "markdown",
      "metadata": {
        "id": "2mBgKGkXLrdJ"
      },
      "source": [
        "# Wandb"
      ]
    },
    {
      "cell_type": "code",
      "execution_count": null,
      "metadata": {
        "colab": {
          "base_uri": "https://localhost:8080/"
        },
        "id": "Ix62_BkaLr_D",
        "outputId": "38482d5a-bbbe-414c-db4b-376d7a3d6a8d"
      },
      "outputs": [
        {
          "output_type": "stream",
          "name": "stderr",
          "text": [
            "\u001b[34m\u001b[1mwandb\u001b[0m: W&B API key is configured. Use \u001b[1m`wandb login --relogin`\u001b[0m to force relogin\n",
            "\u001b[34m\u001b[1mwandb\u001b[0m: \u001b[33mWARNING\u001b[0m If you're specifying your api key in code, ensure this code is not shared publicly.\n",
            "\u001b[34m\u001b[1mwandb\u001b[0m: \u001b[33mWARNING\u001b[0m Consider setting the WANDB_API_KEY environment variable, or running `wandb login` from the command line.\n",
            "\u001b[34m\u001b[1mwandb\u001b[0m: Appending key for api.wandb.ai to your netrc file: /root/.netrc\n"
          ]
        },
        {
          "output_type": "execute_result",
          "data": {
            "text/plain": [
              "True"
            ]
          },
          "metadata": {},
          "execution_count": 22
        }
      ],
      "source": [
        "wandb.login(key=\"4db423a16f4cfa4122b415b4c149bab53147a4cb\") #API Key is in your wandb account, under settings (wandb.ai/settings)"
      ]
    },
    {
      "cell_type": "code",
      "execution_count": null,
      "metadata": {
        "colab": {
          "base_uri": "https://localhost:8080/",
          "height": 123
        },
        "id": "VG0vmsmbRYEi",
        "outputId": "da7a9855-ba23-4c0b-a4cb-65f63a2ed56f"
      },
      "outputs": [
        {
          "output_type": "stream",
          "name": "stderr",
          "text": [
            "\u001b[34m\u001b[1mwandb\u001b[0m: Currently logged in as: \u001b[33mshangs\u001b[0m (\u001b[33midlbeasts\u001b[0m). Use \u001b[1m`wandb login --relogin`\u001b[0m to force relogin\n"
          ]
        },
        {
          "output_type": "display_data",
          "data": {
            "text/plain": [
              "<IPython.core.display.HTML object>"
            ],
            "text/html": [
              "Tracking run with wandb version 0.15.0"
            ]
          },
          "metadata": {}
        },
        {
          "output_type": "display_data",
          "data": {
            "text/plain": [
              "<IPython.core.display.HTML object>"
            ],
            "text/html": [
              "Run data is saved locally in <code>/content/wandb/run-20230422_152114-2u50lwri</code>"
            ]
          },
          "metadata": {}
        },
        {
          "output_type": "display_data",
          "data": {
            "text/plain": [
              "<IPython.core.display.HTML object>"
            ],
            "text/html": [
              "Syncing run <strong><a href='https://wandb.ai/idlbeasts/IDL_Project/runs/2u50lwri' target=\"_blank\">project_Linear1_actual</a></strong> to <a href='https://wandb.ai/idlbeasts/IDL_Project' target=\"_blank\">Weights & Biases</a> (<a href='https://wandb.me/run' target=\"_blank\">docs</a>)<br/>"
            ]
          },
          "metadata": {}
        },
        {
          "output_type": "display_data",
          "data": {
            "text/plain": [
              "<IPython.core.display.HTML object>"
            ],
            "text/html": [
              " View project at <a href='https://wandb.ai/idlbeasts/IDL_Project' target=\"_blank\">https://wandb.ai/idlbeasts/IDL_Project</a>"
            ]
          },
          "metadata": {}
        },
        {
          "output_type": "display_data",
          "data": {
            "text/plain": [
              "<IPython.core.display.HTML object>"
            ],
            "text/html": [
              " View run at <a href='https://wandb.ai/idlbeasts/IDL_Project/runs/2u50lwri' target=\"_blank\">https://wandb.ai/idlbeasts/IDL_Project/runs/2u50lwri</a>"
            ]
          },
          "metadata": {}
        }
      ],
      "source": [
        "# Create your wandb run\n",
        "run = wandb.init(\n",
        "    name = \"project_Linear1_actual\", ## Wandb creates random run names if you skip this field\n",
        "    reinit = True, ### Allows reinitalizing runs when you re-run this cell\n",
        "    # id = \"vfrm12ve\", ##Insert specific run id here if you want to resume a previous run\n",
        "    # resume = \"must\", ### You need this to resume previous runs, but comment out reinit = True when using this\n",
        "    project = \"IDL_Project\", ### Project should be created in your wandb account \n",
        "    config = config ### Wandb Config for your run\n",
        ")"
      ]
    },
    {
      "cell_type": "markdown",
      "metadata": {
        "id": "SQkRw1FvLqYe"
      },
      "source": [
        "# Training"
      ]
    },
    {
      "cell_type": "code",
      "execution_count": null,
      "metadata": {
        "id": "EqWO8Edb0BK2"
      },
      "outputs": [],
      "source": [
        "best_train = 10\n",
        "\n",
        "for epoch in range(config['epochs']):\n",
        "\n",
        "    curr_lr = float(optimizer.param_groups[0]['lr'])\n",
        "\n",
        "    train_loss = train(model, train_loader, optimizer, criterion)\n",
        "    \n",
        "    print(\"\\nEpoch {}/{}: \\n Train Loss {:.04f}\\t Learning Rate {:.04f}\".format(\n",
        "        epoch + 1,\n",
        "        config['epochs'],\n",
        "        train_loss,\n",
        "        curr_lr))\n",
        "    \n",
        "    # val_loss = validate(model, val_loader, criterion)\n",
        "\n",
        "\n",
        "    # print(\"val loss:\", val_loss)\n",
        "\n",
        "    # wandb.log({\"train_loss\":train_loss,\n",
        "    #   'validation_loss': val_loss, \"learning_Rate\": curr_lr})\n",
        "    \n",
        "    wandb.log({\"train_loss\":train_loss, \"learning_Rate\": curr_lr})\n",
        "\n",
        "    if epoch >= 4:  \n",
        "      scheduler.step()\n",
        "\n",
        "    if train_loss <= best_train:\n",
        "      print(\"Saving model\")\n",
        "      save_path = \"model1_run.pth\"\n",
        "      torch.save({'model_state_dict':model.state_dict(),\n",
        "                  # 'scheduler_state_dict':scheduler.state_dict(),\n",
        "                  'optimizer_state_dict':optimizer.state_dict()},\n",
        "                  '/content/'+save_path)\n",
        "      best_train = train_loss\n",
        "      wandb.save(save_path)\n",
        "run.finish()"
      ]
    }
  ],
  "metadata": {
    "accelerator": "GPU",
    "colab": {
      "machine_shape": "hm",
      "provenance": []
    },
    "gpuClass": "standard",
    "kernelspec": {
      "display_name": "Python 3",
      "language": "python",
      "name": "python3"
    },
    "language_info": {
      "codemirror_mode": {
        "name": "ipython",
        "version": 3
      },
      "file_extension": ".py",
      "mimetype": "text/x-python",
      "name": "python",
      "nbconvert_exporter": "python",
      "pygments_lexer": "ipython3",
      "version": "3.10.10"
    },
    "vscode": {
      "interpreter": {
        "hash": "31f2aee4e71d21fbe5cf8b01ff0e069b9275f58929596ceb00d14d90e3e16cd6"
      }
    }
  },
  "nbformat": 4,
  "nbformat_minor": 0
}